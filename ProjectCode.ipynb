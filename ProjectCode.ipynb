{
  "nbformat": 4,
  "nbformat_minor": 0,
  "metadata": {
    "colab": {
      "provenance": []
    },
    "kernelspec": {
      "name": "python3",
      "display_name": "Python 3"
    },
    "language_info": {
      "name": "python"
    }
  },
  "cells": [
    {
      "cell_type": "code",
      "source": [
        "!pip install vaderSentiment"
      ],
      "metadata": {
        "colab": {
          "base_uri": "https://localhost:8080/"
        },
        "id": "u_NCWqOFZeHN",
        "outputId": "6516f03f-f3b9-407b-c809-53a1b09a669f"
      },
      "execution_count": null,
      "outputs": [
        {
          "output_type": "stream",
          "name": "stdout",
          "text": [
            "Collecting vaderSentiment\n",
            "  Downloading vaderSentiment-3.3.2-py2.py3-none-any.whl.metadata (572 bytes)\n",
            "Requirement already satisfied: requests in /usr/local/lib/python3.10/dist-packages (from vaderSentiment) (2.32.3)\n",
            "Requirement already satisfied: charset-normalizer<4,>=2 in /usr/local/lib/python3.10/dist-packages (from requests->vaderSentiment) (3.4.0)\n",
            "Requirement already satisfied: idna<4,>=2.5 in /usr/local/lib/python3.10/dist-packages (from requests->vaderSentiment) (3.10)\n",
            "Requirement already satisfied: urllib3<3,>=1.21.1 in /usr/local/lib/python3.10/dist-packages (from requests->vaderSentiment) (2.2.3)\n",
            "Requirement already satisfied: certifi>=2017.4.17 in /usr/local/lib/python3.10/dist-packages (from requests->vaderSentiment) (2024.8.30)\n",
            "Downloading vaderSentiment-3.3.2-py2.py3-none-any.whl (125 kB)\n",
            "\u001b[?25l   \u001b[90m━━━━━━━━━━━━━━━━━━━━━━━━━━━━━━━━━━━━━━━━\u001b[0m \u001b[32m0.0/126.0 kB\u001b[0m \u001b[31m?\u001b[0m eta \u001b[36m-:--:--\u001b[0m\r\u001b[2K   \u001b[90m━━━━━━━━━━━━━━━━━━━━━━━━━━━━━━━━━━━━━━━━\u001b[0m \u001b[32m126.0/126.0 kB\u001b[0m \u001b[31m5.6 MB/s\u001b[0m eta \u001b[36m0:00:00\u001b[0m\n",
            "\u001b[?25hInstalling collected packages: vaderSentiment\n",
            "Successfully installed vaderSentiment-3.3.2\n"
          ]
        }
      ]
    },
    {
      "cell_type": "code",
      "execution_count": null,
      "metadata": {
        "id": "ZrCUwGW5BOla"
      },
      "outputs": [],
      "source": [
        "import pandas as pd\n",
        "import numpy as np\n",
        "from gensim.models import Word2Vec\n",
        "from vaderSentiment.vaderSentiment import SentimentIntensityAnalyzer\n",
        "from sklearn.decomposition import TruncatedSVD\n",
        "from sklearn.metrics import mean_squared_error\n",
        "from math import sqrt\n",
        "from tensorflow.keras.models import Model\n",
        "from tensorflow.keras.layers import Input, Embedding, Flatten, Dense, concatenate\n",
        "from tensorflow.keras.optimizers import Adam\n",
        "from sklearn.model_selection import train_test_split"
      ]
    },
    {
      "cell_type": "code",
      "source": [
        "file_path = '/content/reviews_dataset.csv'\n",
        "data = pd.read_csv(file_path)"
      ],
      "metadata": {
        "id": "FlXvy682CoAh"
      },
      "execution_count": null,
      "outputs": []
    },
    {
      "cell_type": "code",
      "source": [
        "data['images'].fillna('no_image', inplace=True)\n",
        "data['reviewed_at'] = pd.to_datetime(data['reviewed_at'], errors='coerce')\n",
        "data['crawled_at'] = pd.to_datetime(data['crawled_at'], errors='coerce')\n",
        "data['description'] = data['description'].str.lower().str.replace('[^\\w\\s]', '', regex=True)\n",
        "data.dropna(subset=['name', '_id', 'rating'], inplace=True)"
      ],
      "metadata": {
        "colab": {
          "base_uri": "https://localhost:8080/"
        },
        "id": "P48qASaRZknz",
        "outputId": "fb505b2d-b555-453a-a17a-95be62447239"
      },
      "execution_count": null,
      "outputs": [
        {
          "output_type": "stream",
          "name": "stderr",
          "text": [
            "<ipython-input-5-8626c62ddec2>:1: FutureWarning: A value is trying to be set on a copy of a DataFrame or Series through chained assignment using an inplace method.\n",
            "The behavior will change in pandas 3.0. This inplace method will never work because the intermediate object on which we are setting values always behaves as a copy.\n",
            "\n",
            "For example, when doing 'df[col].method(value, inplace=True)', try using 'df.method({col: value}, inplace=True)' or df[col] = df[col].method(value) instead, to perform the operation inplace on the original object.\n",
            "\n",
            "\n",
            "  data['images'].fillna('no_image', inplace=True)\n"
          ]
        }
      ]
    },
    {
      "cell_type": "code",
      "source": [
        "analyzer = SentimentIntensityAnalyzer()\n",
        "data['sentiment_score'] = data['description'].apply(lambda x: analyzer.polarity_scores(x)['compound'])"
      ],
      "metadata": {
        "id": "PZJYpZoGaBdI"
      },
      "execution_count": null,
      "outputs": []
    },
    {
      "cell_type": "code",
      "source": [
        "def classify_sentiment(score):\n",
        "    if score > 0.1:\n",
        "        return 1\n",
        "    elif score < -0.1:\n",
        "        return -1\n",
        "    else:\n",
        "        return 0"
      ],
      "metadata": {
        "id": "ZhAf7wc8aEij"
      },
      "execution_count": null,
      "outputs": []
    },
    {
      "cell_type": "code",
      "source": [
        "data['sentiment_label'] = data['sentiment_score'].apply(classify_sentiment)\n",
        "data['normalized_sentiment'] = data['sentiment_label'].apply(lambda x: (x + 1) * 2 + 1)"
      ],
      "metadata": {
        "id": "ixV4aYMgaGGV"
      },
      "execution_count": null,
      "outputs": []
    },
    {
      "cell_type": "code",
      "source": [
        "# Summary of sentiment labels\n",
        "count_1 = (data['sentiment_label'] == 1).sum()\n",
        "count_neg1 = (data['sentiment_label'] == -1).sum()\n",
        "count_0 = (data['sentiment_label'] == 0).sum()\n",
        "print(f'Positive sentiment count: {count_1}')\n",
        "print(f'Negative sentiment count: {count_neg1}')\n",
        "print(f'Neutral sentiment count: {count_0}')"
      ],
      "metadata": {
        "colab": {
          "base_uri": "https://localhost:8080/"
        },
        "id": "O5HlW2-MJYkp",
        "outputId": "9bd0caea-3269-4205-a492-b751eca5c260"
      },
      "execution_count": null,
      "outputs": [
        {
          "output_type": "stream",
          "name": "stdout",
          "text": [
            "Positive sentiment count: 2703\n",
            "Negative sentiment count: 140\n",
            "Neutral sentiment count: 379\n"
          ]
        }
      ]
    },
    {
      "cell_type": "code",
      "source": [
        "user_item_matrix = data.pivot_table(index='name', columns='_id', values='rating', fill_value=0)\n",
        "svd = TruncatedSVD(n_components=20, random_state=42)\n",
        "user_latent_matrix = svd.fit_transform(user_item_matrix)\n",
        "item_latent_matrix = svd.components_\n",
        "predicted_ratings = np.dot(user_latent_matrix, item_latent_matrix)\n",
        "predicted_ratings_df = pd.DataFrame(predicted_ratings, index=user_item_matrix.index, columns=user_item_matrix.columns)"
      ],
      "metadata": {
        "id": "ei1eRjJJaIc4"
      },
      "execution_count": null,
      "outputs": []
    },
    {
      "cell_type": "code",
      "source": [
        "sentiment_matrix = data.pivot_table(index='name', columns='_id', values='normalized_sentiment', fill_value=0)\n",
        "hybrid_scores = 0.7 * predicted_ratings_df + 0.3 * sentiment_matrix"
      ],
      "metadata": {
        "id": "uwwlgJ_RaKZ0"
      },
      "execution_count": null,
      "outputs": []
    },
    {
      "cell_type": "code",
      "source": [
        "descriptions = data['description'].apply(lambda x: x.split())\n",
        "w2v_model = Word2Vec(sentences=descriptions, vector_size=50, window=5, min_count=1, workers=4)"
      ],
      "metadata": {
        "id": "BsMK7aJzaMNC"
      },
      "execution_count": null,
      "outputs": []
    },
    {
      "cell_type": "code",
      "source": [
        "def get_product_vector(description):\n",
        "    vectors = [w2v_model.wv[word] for word in description.split() if word in w2v_model.wv]\n",
        "    return np.mean(vectors, axis=0) if vectors else np.zeros(50)"
      ],
      "metadata": {
        "id": "6H5DcyHZaUCZ"
      },
      "execution_count": null,
      "outputs": []
    },
    {
      "cell_type": "code",
      "source": [
        "data['product_vector'] = data['description'].apply(get_product_vector)"
      ],
      "metadata": {
        "id": "dLdCZqoUaWI_"
      },
      "execution_count": null,
      "outputs": []
    },
    {
      "cell_type": "code",
      "source": [
        "def content_based_recommend(user_name, num_recommendations=5):\n",
        "    user_products = data[data['name'] == user_name]\n",
        "    positive_products = user_products[user_products['rating'] >= 4]\n",
        "\n",
        "    if positive_products.empty:\n",
        "        print(f\"No positive ratings for user {user_name}.\")\n",
        "        return []\n",
        "\n",
        "    user_vector = np.mean([get_product_vector(desc) for desc in positive_products['description']], axis=0)\n",
        "    data['similarity'] = data['product_vector'].apply(lambda x: np.dot(x, user_vector) / (np.linalg.norm(x) * np.linalg.norm(user_vector)))\n",
        "    recommended_products = data[~data['_id'].isin(positive_products['_id'])].sort_values(by='similarity', ascending=False).head(num_recommendations)\n",
        "\n",
        "    return recommended_products['_id'], recommended_products['similarity']"
      ],
      "metadata": {
        "id": "vY6TVtPwaYXh"
      },
      "execution_count": null,
      "outputs": []
    },
    {
      "cell_type": "code",
      "source": [
        "user_ids = data['name'].astype(\"category\").cat.codes.values\n",
        "item_ids = data['_id'].astype(\"category\").cat.codes.values\n",
        "ratings = data['rating'].values\n",
        "train_data, test_data, train_ratings, test_ratings = train_test_split(\n",
        "    np.vstack([user_ids, item_ids]).T, ratings, test_size=0.2, random_state=42\n",
        ")\n",
        "num_users, num_items = len(set(user_ids)), len(set(item_ids))"
      ],
      "metadata": {
        "id": "_i4Cmpaiaah9"
      },
      "execution_count": null,
      "outputs": []
    },
    {
      "cell_type": "code",
      "source": [
        "def create_ncf_model(num_users, num_items, embedding_size=50):\n",
        "    user_input = Input(shape=(1,))\n",
        "    user_embedding = Embedding(num_users, embedding_size, input_length=1)(user_input)\n",
        "    user_vector = Flatten()(user_embedding)\n",
        "\n",
        "    item_input = Input(shape=(1,))\n",
        "    item_embedding = Embedding(num_items, embedding_size, input_length=1)(item_input)\n",
        "    item_vector = Flatten()(item_embedding)\n",
        "\n",
        "    concat = concatenate([user_vector, item_vector])\n",
        "    dense_1 = Dense(128, activation='relu')(concat)\n",
        "    dense_2 = Dense(64, activation='relu')(dense_1)\n",
        "    output = Dense(1, activation='linear')(dense_2)\n",
        "\n",
        "    model = Model(inputs=[user_input, item_input], outputs=output)\n",
        "    model.compile(optimizer=Adam(learning_rate=0.001), loss='mse')\n",
        "    return model"
      ],
      "metadata": {
        "id": "TLdTqdc6acoA"
      },
      "execution_count": null,
      "outputs": []
    },
    {
      "cell_type": "code",
      "source": [
        "ncf_model = create_ncf_model(num_users, num_items)\n",
        "ncf_model.fit([train_data[:, 0], train_data[:, 1]], train_ratings, epochs=5, batch_size=64, verbose=1)"
      ],
      "metadata": {
        "colab": {
          "base_uri": "https://localhost:8080/"
        },
        "id": "8prauQIYafMs",
        "outputId": "9f584231-61fa-43e4-e5cf-f5d67b163300"
      },
      "execution_count": null,
      "outputs": [
        {
          "output_type": "stream",
          "name": "stderr",
          "text": [
            "/usr/local/lib/python3.10/dist-packages/keras/src/layers/core/embedding.py:90: UserWarning: Argument `input_length` is deprecated. Just remove it.\n",
            "  warnings.warn(\n"
          ]
        },
        {
          "output_type": "stream",
          "name": "stdout",
          "text": [
            "Epoch 1/5\n",
            "\u001b[1m41/41\u001b[0m \u001b[32m━━━━━━━━━━━━━━━━━━━━\u001b[0m\u001b[37m\u001b[0m \u001b[1m4s\u001b[0m 7ms/step - loss: 19.4932\n",
            "Epoch 2/5\n",
            "\u001b[1m41/41\u001b[0m \u001b[32m━━━━━━━━━━━━━━━━━━━━\u001b[0m\u001b[37m\u001b[0m \u001b[1m0s\u001b[0m 5ms/step - loss: 1.3833\n",
            "Epoch 3/5\n",
            "\u001b[1m41/41\u001b[0m \u001b[32m━━━━━━━━━━━━━━━━━━━━\u001b[0m\u001b[37m\u001b[0m \u001b[1m0s\u001b[0m 5ms/step - loss: 0.3045\n",
            "Epoch 4/5\n",
            "\u001b[1m41/41\u001b[0m \u001b[32m━━━━━━━━━━━━━━━━━━━━\u001b[0m\u001b[37m\u001b[0m \u001b[1m0s\u001b[0m 7ms/step - loss: 0.1807\n",
            "Epoch 5/5\n",
            "\u001b[1m41/41\u001b[0m \u001b[32m━━━━━━━━━━━━━━━━━━━━\u001b[0m\u001b[37m\u001b[0m \u001b[1m1s\u001b[0m 5ms/step - loss: 0.0889\n"
          ]
        },
        {
          "output_type": "execute_result",
          "data": {
            "text/plain": [
              "<keras.src.callbacks.history.History at 0x7a1b9b0caa70>"
            ]
          },
          "metadata": {},
          "execution_count": 18
        }
      ]
    },
    {
      "cell_type": "code",
      "source": [
        "def recommend(user_name, num_recommendations=5):\n",
        "    if user_name not in hybrid_scores.index:\n",
        "        print(f\"User {user_name} not found in the dataset.\")\n",
        "        return []\n",
        "\n",
        "    user_scores = hybrid_scores.loc[user_name]\n",
        "    top_products = user_scores.sort_values(ascending=False).head(num_recommendations)\n",
        "    return top_products.index, top_products.values"
      ],
      "metadata": {
        "id": "-X475EWPahcZ"
      },
      "execution_count": null,
      "outputs": []
    },
    {
      "cell_type": "code",
      "source": [
        "def hybrid_recommend(user_name, num_recommendations=5):\n",
        "    base_recommendations, base_scores = recommend(user_name, num_recommendations)\n",
        "    content_recommendations, content_scores = content_based_recommend(user_name, num_recommendations)\n",
        "\n",
        "    combined_recommendations = {}\n",
        "    for product, score in zip(base_recommendations, base_scores):\n",
        "        combined_recommendations[product] = 0.7 * score\n",
        "\n",
        "    for product, score in zip(content_recommendations, content_scores):\n",
        "        if product in combined_recommendations:\n",
        "            combined_recommendations[product] += 0.3 * score\n",
        "        else:\n",
        "            combined_recommendations[product] = 0.3 * score\n",
        "\n",
        "    sorted_recommendations = sorted(combined_recommendations.items(), key=lambda x: x[1], reverse=True)\n",
        "    return sorted_recommendations[:num_recommendations]"
      ],
      "metadata": {
        "id": "D-mEDHImakVm"
      },
      "execution_count": null,
      "outputs": []
    },
    {
      "cell_type": "code",
      "source": [
        "user_name = 'Zaneera'\n",
        "recommendations = hybrid_recommend(user_name, num_recommendations=5)\n",
        "\n",
        "recommendations_df = pd.DataFrame(recommendations, columns=['Product_ID', 'Score'])\n",
        "\n",
        "print(f\"Hybrid Recommendations for user {user_name}:\")\n",
        "print(recommendations_df)"
      ],
      "metadata": {
        "colab": {
          "base_uri": "https://localhost:8080/"
        },
        "id": "pl0AzH8FThyp",
        "outputId": "f37f2b8e-6c99-4125-b7ca-b01914acbbe8"
      },
      "execution_count": null,
      "outputs": [
        {
          "output_type": "stream",
          "name": "stdout",
          "text": [
            "Hybrid Recommendations for user Zaneera:\n",
            "                             Product_ID     Score\n",
            "0  cfd992f2-85bc-56a1-9577-1a8bd7ca6c82  2.134735\n",
            "1  9991435d-f18a-597f-863a-25e547f945f1  0.599938\n",
            "2  c04ece13-ce9f-5fa3-9c9c-86374f76a56a  0.473173\n",
            "3  db06b820-5f32-50a2-aab7-7affe2e771ea  0.321913\n",
            "4  f859da22-f6d3-55ae-9873-ad83aca153d2  0.299970\n"
          ]
        },
        {
          "output_type": "stream",
          "name": "stderr",
          "text": [
            "<ipython-input-15-38d103db25b8>:10: RuntimeWarning: invalid value encountered in scalar divide\n",
            "  data['similarity'] = data['product_vector'].apply(lambda x: np.dot(x, user_vector) / (np.linalg.norm(x) * np.linalg.norm(user_vector)))\n"
          ]
        }
      ]
    },
    {
      "cell_type": "code",
      "source": [
        "from sklearn.metrics import mean_squared_error\n",
        "from sklearn.metrics.pairwise import cosine_similarity\n",
        "import numpy as np\n",
        "\n",
        "def rmse(actual_ratings, predicted_ratings):\n",
        "    return sqrt(mean_squared_error(actual_ratings, predicted_ratings))\n",
        "\n",
        "def cosine_sim(actual_ratings, predicted_ratings):\n",
        "    return cosine_similarity([actual_ratings], [predicted_ratings])[0][0]\n",
        "\n",
        "def get_actual_and_predicted_ratings(user_name):\n",
        "    if user_name not in user_item_matrix.index:\n",
        "        print(f\"User {user_name} not found in the dataset.\")\n",
        "        return None, None\n",
        "\n",
        "    actual_ratings = user_item_matrix.loc[user_name].values\n",
        "    predicted_ratings = predicted_ratings_df.loc[user_name].values\n",
        "    return actual_ratings, predicted_ratings\n",
        "\n",
        "user_name = 'Zaneera'\n",
        "actual_ratings, predicted_ratings = get_actual_and_predicted_ratings(user_name)\n",
        "\n",
        "if actual_ratings is not None:\n",
        "    rmse_value = rmse(actual_ratings, predicted_ratings)\n",
        "    print(f\"RMSE for user {user_name}: {rmse_value}\")\n",
        "\n",
        "    cosine_sim_value = cosine_sim(actual_ratings, predicted_ratings)\n",
        "    print(f\"Cosine Similarity for user {user_name}: {cosine_sim_value}\")"
      ],
      "metadata": {
        "id": "x_Vj22piaoky",
        "colab": {
          "base_uri": "https://localhost:8080/"
        },
        "outputId": "5b3b02c8-832a-4cb1-bd0c-7b1fbaed23e8"
      },
      "execution_count": null,
      "outputs": [
        {
          "output_type": "stream",
          "name": "stdout",
          "text": [
            "RMSE for user Zaneera: 0.299798541915112\n",
            "Cosine Similarity for user Zaneera: 0.6653939979039122\n"
          ]
        }
      ]
    },
    {
      "cell_type": "code",
      "source": [],
      "metadata": {
        "id": "D4cwNYT_Qjwj"
      },
      "execution_count": null,
      "outputs": []
    },
    {
      "cell_type": "code",
      "source": [
        "import matplotlib.pyplot as plt\n",
        "\n",
        "def compute_metrics(user_name, actual_ratings, model_ratings, model_name):\n",
        "    rmse_value = rmse(actual_ratings, model_ratings)\n",
        "    cosine_sim_value = cosine_sim(actual_ratings, model_ratings)\n",
        "    print(f\"{model_name} - RMSE for user {user_name}: {rmse_value}\")\n",
        "    print(f\"{model_name} - Cosine Similarity for user {user_name}: {cosine_sim_value}\")\n",
        "    return rmse_value, cosine_sim_value\n",
        "\n",
        "cf_rmse, cf_cosine_sim = compute_metrics(user_name, actual_ratings, predicted_ratings, \"Collaborative Filtering\")\n",
        "\n",
        "data['cbf_similarity'] = data['product_vector'].apply(lambda x: np.dot(x, get_product_vector(' '.join(data[data['name'] == user_name]['description']))) /\n",
        "                                                     (np.linalg.norm(x) * np.linalg.norm(get_product_vector(' '.join(data[data['name'] == user_name]['description'])))))\n",
        "cbf_ratings = data.pivot_table(index='name', columns='_id', values='cbf_similarity', fill_value=0)\n",
        "cbf_rmse, cbf_cosine_sim = compute_metrics(user_name, actual_ratings, cbf_ratings.loc[user_name].values, \"Content-Based Filtering\")\n",
        "\n",
        "hybrid_rmse, hybrid_cosine_sim = compute_metrics(user_name, actual_ratings, hybrid_scores.loc[user_name].values, \"Hybrid Model\")\n",
        "\n",
        "metrics_dict = {\n",
        "    'Model': ['Collaborative Filtering', 'Content-Based Filtering', 'Hybrid Model'],\n",
        "    'RMSE': [cf_rmse, cbf_rmse, hybrid_rmse],\n",
        "    'Cosine Similarity': [cf_cosine_sim, cbf_cosine_sim, hybrid_cosine_sim]\n",
        "}\n",
        "\n",
        "metrics_df = pd.DataFrame(metrics_dict)\n",
        "\n",
        "fig, ax = plt.subplots(1, 2, figsize=(14, 6))\n",
        "\n",
        "ax[0].bar(metrics_df['Model'], metrics_df['RMSE'], color=['skyblue', 'lightgreen', 'salmon'])\n",
        "ax[0].set_title('RMSE Comparison')\n",
        "ax[0].set_ylabel('RMSE')\n",
        "ax[0].set_ylim(0, max(metrics_df['RMSE']) * 1.2)\n",
        "\n",
        "ax[1].bar(metrics_df['Model'], metrics_df['Cosine Similarity'], color=['skyblue', 'lightgreen', 'salmon'])\n",
        "ax[1].set_title('Cosine Similarity Comparison')\n",
        "ax[1].set_ylabel('Cosine Similarity')\n",
        "ax[1].set_ylim(0, 1)\n",
        "\n",
        "plt.suptitle(f\"Model Comparison for User {user_name}\")\n",
        "plt.show()\n"
      ],
      "metadata": {
        "colab": {
          "base_uri": "https://localhost:8080/",
          "height": 647
        },
        "id": "oiIS5C461SbT",
        "outputId": "eb50c7d6-ef99-414b-f20e-956b9c1a1b12"
      },
      "execution_count": null,
      "outputs": [
        {
          "output_type": "stream",
          "name": "stdout",
          "text": [
            "Collaborative Filtering - RMSE for user Zaneera: 0.299798541915112\n",
            "Collaborative Filtering - Cosine Similarity for user Zaneera: 0.6653939979039122\n"
          ]
        },
        {
          "output_type": "stream",
          "name": "stderr",
          "text": [
            "<ipython-input-23-b70f6ce4b215>:12: RuntimeWarning: invalid value encountered in scalar divide\n",
            "  data['cbf_similarity'] = data['product_vector'].apply(lambda x: np.dot(x, get_product_vector(' '.join(data[data['name'] == user_name]['description']))) /\n"
          ]
        },
        {
          "output_type": "stream",
          "name": "stdout",
          "text": [
            "Content-Based Filtering - RMSE for user Zaneera: 0.3212877411361201\n",
            "Content-Based Filtering - Cosine Similarity for user Zaneera: 1.0\n",
            "Hybrid Model - RMSE for user Zaneera: 0.2098589793405784\n",
            "Hybrid Model - Cosine Similarity for user Zaneera: 0.8687520525888319\n"
          ]
        },
        {
          "output_type": "display_data",
          "data": {
            "text/plain": [
              "<Figure size 1400x600 with 2 Axes>"
            ],
            "image/png": "[encoded data removed]"
          },
          "metadata": {}
        }
      ]
    },
    {
      "cell_type": "code",
      "source": [],
      "metadata": {
        "id": "mFAQ4wrH1cmj"
      },
      "execution_count": null,
      "outputs": []
    },
    {
      "cell_type": "code",
      "source": [
        "user_name = 'Jyoti Mehra'\n",
        "recommendations = hybrid_recommend(user_name, num_recommendations=5)\n",
        "\n",
        "recommendations_df = pd.DataFrame(recommendations, columns=['Product_ID', 'Score'])\n",
        "\n",
        "print(f\"Hybrid Recommendations for user {user_name}:\")\n",
        "print(recommendations_df)"
      ],
      "metadata": {
        "colab": {
          "base_uri": "https://localhost:8080/"
        },
        "id": "kTPEQiVNJfiT",
        "outputId": "c4b85a38-bfd4-47ee-9c89-1051be3bfe2d"
      },
      "execution_count": null,
      "outputs": [
        {
          "output_type": "stream",
          "name": "stdout",
          "text": [
            "Hybrid Recommendations for user Jyoti Mehra:\n",
            "                             Product_ID     Score\n",
            "0  772dbeac-0d1c-5030-bfab-5a2080f05654  2.069278\n",
            "1  77662bb5-11fa-5918-897c-322e4bfd13c9  1.670127\n",
            "2  60004029-1593-5687-9458-1da9ee849673  0.899965\n",
            "3  1e94b414-7be2-5933-969b-05760cacddb6  0.567443\n",
            "4  146b2bfb-a1fc-5981-ab74-5683503f4e0d  0.299992\n"
          ]
        },
        {
          "output_type": "stream",
          "name": "stderr",
          "text": [
            "<ipython-input-15-38d103db25b8>:10: RuntimeWarning: invalid value encountered in scalar divide\n",
            "  data['similarity'] = data['product_vector'].apply(lambda x: np.dot(x, user_vector) / (np.linalg.norm(x) * np.linalg.norm(user_vector)))\n"
          ]
        }
      ]
    },
    {
      "cell_type": "code",
      "source": [
        "from sklearn.metrics import mean_squared_error\n",
        "from sklearn.metrics.pairwise import cosine_similarity\n",
        "import numpy as np\n",
        "\n",
        "def rmse(actual_ratings, predicted_ratings):\n",
        "    return sqrt(mean_squared_error(actual_ratings, predicted_ratings))\n",
        "\n",
        "def cosine_sim(actual_ratings, predicted_ratings):\n",
        "    return cosine_similarity([actual_ratings], [predicted_ratings])[0][0]\n",
        "\n",
        "def get_actual_and_predicted_ratings(user_name):\n",
        "    if user_name not in user_item_matrix.index:\n",
        "        print(f\"User {user_name} not found in the dataset.\")\n",
        "        return None, None\n",
        "\n",
        "    actual_ratings = user_item_matrix.loc[user_name].values\n",
        "    predicted_ratings = predicted_ratings_df.loc[user_name].values\n",
        "    return actual_ratings, predicted_ratings\n",
        "\n",
        "user_name = 'Jyoti Mehra'\n",
        "actual_ratings, predicted_ratings = get_actual_and_predicted_ratings(user_name)\n",
        "\n",
        "if actual_ratings is not None:\n",
        "    rmse_value = rmse(actual_ratings, predicted_ratings)\n",
        "    print(f\"RMSE for user {user_name}: {rmse_value}\")\n",
        "\n",
        "    cosine_sim_value = cosine_sim(actual_ratings, predicted_ratings)\n",
        "    print(f\"Cosine Similarity for user {user_name}: {cosine_sim_value}\")"
      ],
      "metadata": {
        "colab": {
          "base_uri": "https://localhost:8080/"
        },
        "id": "6LupVWs7Jfe3",
        "outputId": "13461dc6-9367-4733-c3b6-3b852ddd4450"
      },
      "execution_count": null,
      "outputs": [
        {
          "output_type": "stream",
          "name": "stdout",
          "text": [
            "RMSE for user Jyoti Mehra: 0.40589964484672725\n",
            "Cosine Similarity for user Jyoti Mehra: 0.6141233914816446\n"
          ]
        }
      ]
    },
    {
      "cell_type": "code",
      "source": [
        "import matplotlib.pyplot as plt\n",
        "\n",
        "def compute_metrics(user_name, actual_ratings, model_ratings, model_name):\n",
        "    rmse_value = rmse(actual_ratings, model_ratings)\n",
        "    cosine_sim_value = cosine_sim(actual_ratings, model_ratings)\n",
        "    print(f\"{model_name} - RMSE for user {user_name}: {rmse_value}\")\n",
        "    print(f\"{model_name} - Cosine Similarity for user {user_name}: {cosine_sim_value}\")\n",
        "    return rmse_value, cosine_sim_value\n",
        "\n",
        "cf_rmse, cf_cosine_sim = compute_metrics(user_name, actual_ratings, predicted_ratings, \"Collaborative Filtering\")\n",
        "\n",
        "data['cbf_similarity'] = data['product_vector'].apply(lambda x: np.dot(x, get_product_vector(' '.join(data[data['name'] == user_name]['description']))) /\n",
        "                                                     (np.linalg.norm(x) * np.linalg.norm(get_product_vector(' '.join(data[data['name'] == user_name]['description'])))))\n",
        "cbf_ratings = data.pivot_table(index='name', columns='_id', values='cbf_similarity', fill_value=0)\n",
        "cbf_rmse, cbf_cosine_sim = compute_metrics(user_name, actual_ratings, cbf_ratings.loc[user_name].values, \"Content-Based Filtering\")\n",
        "\n",
        "hybrid_rmse, hybrid_cosine_sim = compute_metrics(user_name, actual_ratings, hybrid_scores.loc[user_name].values, \"Hybrid Model\")\n",
        "\n",
        "metrics_dict = {\n",
        "    'Model': ['Collaborative Filtering', 'Content-Based Filtering', 'Hybrid Model'],\n",
        "    'RMSE': [cf_rmse, cbf_rmse, hybrid_rmse],\n",
        "    'Cosine Similarity': [cf_cosine_sim, cbf_cosine_sim, hybrid_cosine_sim]\n",
        "}\n",
        "\n",
        "metrics_df = pd.DataFrame(metrics_dict)\n",
        "\n",
        "fig, ax = plt.subplots(1, 2, figsize=(14, 6))\n",
        "\n",
        "ax[0].bar(metrics_df['Model'], metrics_df['RMSE'], color=['skyblue', 'lightgreen', 'salmon'])\n",
        "ax[0].set_title('RMSE Comparison')\n",
        "ax[0].set_ylabel('RMSE')\n",
        "ax[0].set_ylim(0, max(metrics_df['RMSE']) * 1.2)\n",
        "\n",
        "ax[1].bar(metrics_df['Model'], metrics_df['Cosine Similarity'], color=['skyblue', 'lightgreen', 'salmon'])\n",
        "ax[1].set_title('Cosine Similarity Comparison')\n",
        "ax[1].set_ylabel('Cosine Similarity')\n",
        "ax[1].set_ylim(0, 1)\n",
        "\n",
        "plt.suptitle(f\"Model Comparison for User {user_name}\")\n",
        "plt.show()\n"
      ],
      "metadata": {
        "colab": {
          "base_uri": "https://localhost:8080/",
          "height": 651
        },
        "id": "dsZ-bQA2JxZo",
        "outputId": "c2edc43d-0105-4229-89df-2eac78f01576"
      },
      "execution_count": null,
      "outputs": [
        {
          "output_type": "stream",
          "name": "stdout",
          "text": [
            "Collaborative Filtering - RMSE for user Jyoti Mehra: 0.40589964484672725\n",
            "Collaborative Filtering - Cosine Similarity for user Jyoti Mehra: 0.6141233914816446\n"
          ]
        },
        {
          "output_type": "stream",
          "name": "stderr",
          "text": [
            "<ipython-input-26-b70f6ce4b215>:12: RuntimeWarning: invalid value encountered in scalar divide\n",
            "  data['cbf_similarity'] = data['product_vector'].apply(lambda x: np.dot(x, get_product_vector(' '.join(data[data['name'] == user_name]['description']))) /\n"
          ]
        },
        {
          "output_type": "stream",
          "name": "stdout",
          "text": [
            "Content-Based Filtering - RMSE for user Jyoti Mehra: 0.4016124536838711\n",
            "Content-Based Filtering - Cosine Similarity for user Jyoti Mehra: 0.9938834055495875\n",
            "Hybrid Model - RMSE for user Jyoti Mehra: 0.27184724127627125\n",
            "Hybrid Model - Cosine Similarity for user Jyoti Mehra: 0.8691518937602492\n"
          ]
        },
        {
          "output_type": "display_data",
          "data": {
            "text/plain": [
              "<Figure size 1400x600 with 2 Axes>"
            ],
            "image/png": "[encoded data removed]"
          },
          "metadata": {}
        }
      ]
    },
    {
      "cell_type": "code",
      "source": [],
      "metadata": {
        "id": "TwHUW8GoKGEL"
      },
      "execution_count": null,
      "outputs": []
    }
  ]
}
